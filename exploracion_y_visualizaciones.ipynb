{
 "cells": [
  {
   "cell_type": "markdown",
   "metadata": {},
   "source": [
    "## Proyecto 3 - Analítica Computacional para la Toma de Decisiones\n",
    "\n",
    "#### Juan Pablo Ríos Hernández 201821819\n",
    "#### Samuel Felipe Ríos Parra 201821820\n",
    "#### Joep Cornelis Nicolaas van der Kamp 202416832"
   ]
  },
  {
   "cell_type": "code",
   "execution_count": null,
   "metadata": {},
   "outputs": [],
   "source": [
    "import numpy as np\n",
    "import pandas as pd\n",
    "import matplotlib.pyplot as plt\n",
    "import seaborn as sns\n",
    "import plotly.graph_objects as go"
   ]
  },
  {
   "cell_type": "markdown",
   "metadata": {},
   "source": [
    "## Tarea 1. Preguntas de negocio:"
   ]
  },
  {
   "cell_type": "markdown",
   "metadata": {},
   "source": [
    "#### ¿Cuál va a ser el puntaje que va a obtener un estudiante dada su información académica y sociodemográfica?"
   ]
  },
  {
   "cell_type": "markdown",
   "metadata": {},
   "source": [
    "#### ¿Cómo es la distribución histórica de los puntajes basados en factores sociodemográficos y académicos?"
   ]
  },
  {
   "cell_type": "markdown",
   "metadata": {},
   "source": [
    "## Tarea 2. Limpieza y alistamiento de datos:"
   ]
  },
  {
   "cell_type": "code",
   "execution_count": null,
   "metadata": {},
   "outputs": [],
   "source": [
    "df = pd.read_csv('Datos_Santander.csv')\n",
    "df"
   ]
  },
  {
   "cell_type": "code",
   "execution_count": null,
   "metadata": {},
   "outputs": [],
   "source": [
    "df.dtypes"
   ]
  },
  {
   "cell_type": "markdown",
   "metadata": {},
   "source": [
    "#### Missing Values"
   ]
  },
  {
   "cell_type": "code",
   "execution_count": null,
   "metadata": {},
   "outputs": [],
   "source": [
    "df.isna().sum()"
   ]
  },
  {
   "cell_type": "code",
   "execution_count": null,
   "metadata": {},
   "outputs": [],
   "source": [
    "df.shape"
   ]
  },
  {
   "cell_type": "code",
   "execution_count": null,
   "metadata": {},
   "outputs": [],
   "source": [
    "value_counts = df['COLE_BILINGUE'].value_counts()\n",
    "value_counts"
   ]
  },
  {
   "cell_type": "code",
   "execution_count": null,
   "metadata": {},
   "outputs": [],
   "source": [
    "df_cleaned = df.dropna()\n",
    "df_cleaned.shape"
   ]
  },
  {
   "cell_type": "code",
   "execution_count": null,
   "metadata": {},
   "outputs": [],
   "source": [
    "df['COLE_BILINGUE'].fillna('N', inplace=True)\n",
    "df_cleaned2 = df.dropna()\n",
    "df_cleaned2.shape\n"
   ]
  },
  {
   "cell_type": "markdown",
   "metadata": {},
   "source": [
    "The only column with a big amount of missing values is the COLE_BILINGUE, that shows if the school is bilingual or not. We assume that the schools with missing values are not bilingual and replace these with N meaning no. We remove the rest of the NaN values as the other variables have small amounts of NaN values and the dataset is very large, this leaves us with a dataset of 97517 rows."
   ]
  },
  {
   "cell_type": "code",
   "execution_count": null,
   "metadata": {},
   "outputs": [],
   "source": [
    "object_columns = df_cleaned2.select_dtypes(include=['object']).columns\n",
    "for col in object_columns:\n",
    "    unique_values = df_cleaned2[col].unique()\n",
    "    print(f\"Unique values of {col}: {unique_values}\")"
   ]
  },
  {
   "cell_type": "markdown",
   "metadata": {},
   "source": [
    "#### Outliers"
   ]
  },
  {
   "cell_type": "code",
   "execution_count": null,
   "metadata": {},
   "outputs": [],
   "source": [
    "# Seperate the numerical and categorical columns and then calculate the IQR for the numerical columns to discover outliers\n",
    "numerical_columns = df_cleaned2.select_dtypes(include=['number'])\n",
    "categorical_columns = df_cleaned2.select_dtypes(exclude=['number'])\n",
    "\n",
    "# Calculate IQR for each numerical column\n",
    "Q1 = numerical_columns.quantile(0.25)\n",
    "Q3 = numerical_columns.quantile(0.75)\n",
    "IQR = Q3 - Q1\n",
    "\n",
    "# Identify outliers\n",
    "outliers = ((numerical_columns < (Q1 - 1.5 * IQR)) | (numerical_columns > (Q3 + 1.5 * IQR)))"
   ]
  },
  {
   "cell_type": "code",
   "execution_count": null,
   "metadata": {},
   "outputs": [],
   "source": [
    "outliers_count = outliers.sum()\n",
    "\n",
    "# Print the number of outliers for each numerical column\n",
    "print(\"Number of outliers for each numerical column:\")\n",
    "print(outliers_count)"
   ]
  },
  {
   "cell_type": "markdown",
   "metadata": {},
   "source": [
    "The columns with codigos should not be seen as outliers, therefore the columns with outliers are the puntaje columns. These outliers will be removed as it is such a big dataset. "
   ]
  },
  {
   "cell_type": "code",
   "execution_count": null,
   "metadata": {},
   "outputs": [],
   "source": [
    "# Specify the columns with outliers\n",
    "columns_with_outliers = ['PUNT_INGLES', 'PUNT_MATEMATICAS', 'PUNT_SOCIALES_CIUDADANAS', 'PUNT_C_NATURALES', 'PUNT_LECTURA_CRITICA', 'PUNT_GLOBAL']\n",
    "\n",
    "# Create box plots for each column\n",
    "plt.figure(figsize=(10, 6))\n",
    "df_cleaned2[columns_with_outliers].boxplot()\n",
    "plt.title('Box plot of columns with outliers')\n",
    "plt.xlabel('Columns')\n",
    "plt.ylabel('Values')\n",
    "plt.xticks(rotation=45)\n",
    "plt.show()"
   ]
  },
  {
   "cell_type": "code",
   "execution_count": null,
   "metadata": {},
   "outputs": [],
   "source": [
    "# Remove outliers from specified columns\n",
    "df_cleaned_no_outliers = df_cleaned2[~outliers[columns_with_outliers].any(axis=1)]\n",
    "\n",
    "# Print the shape of the dataframe after removing outliers\n",
    "print(\"Shape of dataframe after removing outliers:\", df_cleaned_no_outliers.shape)"
   ]
  },
  {
   "cell_type": "markdown",
   "metadata": {},
   "source": [
    "#### Handling categorical data\n",
    "\n",
    "Machine learning modules cannot understand non-numeric data. Therefore we handle the categorical data by one-hot encoding the categories that do not have an ordinal relationship and label encoding the categories that do have an ordinal relationship.\n",
    "\n",
    "One-hot variables:\n",
    "- ESTU_TIPODOCUMENTO\n",
    "- COLE_AREA_UBICACION\n",
    "- COLE_BILINGUE\n",
    "- COLE_CALENDARIO\n",
    "- COLE_CARACTER\n",
    "- COLE_GENERO\n",
    "- COLE_JORNADA\n",
    "- COLE_SEDE_PRINCIPAL\n",
    "- ESTU_DEPTO_PRESENTACION\n",
    "- ESTU_DEPTO_RESIDE\n",
    "- ESTU_ESTADOINVESTIGACION\n",
    "- ESTU_GENERO\n",
    "- ESTU_NACIONALIDAD\n",
    "- ESTU_PAIS_RESIDE\n",
    "- FAMI_TIENEAUTOMOVIL\n",
    "- FAMI_TIENECOMPUTADOR\n",
    "- FAMI_TIENEINTERNET\n",
    "- FAMI_TIENELAVADORA\n",
    "- FAMI_PERSONASHOGAR ~~\n",
    "- FAMI_CUARTOSHOGAR ~~\n",
    "- FAMI_EDUCACIONMADRE ~~\n",
    "- FAMI_EDUCACIONPADRE  ~~\n",
    "\n",
    "Label encoding variables:\n",
    "- ESTU_FECHANACIMIENTO\n",
    "- FAMI_ESTRATOVIVIENDA\n",
    "- DESEMP_INGLES\n",
    "\n",
    "Others:\n",
    "- COLE_MCPIO_UBICACION\n",
    "- ESTU_MCPIO_PRESENTACION\n",
    "- ESTU_MCPIO_RESIDE\n",
    "\n",
    "Remove:\n",
    "- ESTU_CONSECUTIVO\n",
    "- COLE_DEPTO_UBICACION\n",
    "- ESTU_ESTUDIANTE\n",
    "- ESTU_PRIVADO_LIBERTAD"
   ]
  },
  {
   "cell_type": "markdown",
   "metadata": {},
   "source": [
    "We remove these three variables as they all only have 1 value and will not contribute to the model. ESTU_CONSECUTIVO is removed as it is a code."
   ]
  },
  {
   "cell_type": "code",
   "execution_count": null,
   "metadata": {},
   "outputs": [],
   "source": [
    "df_cleaned_no_outliers.drop(['ESTU_CONSECUTIVO', 'COLE_DEPTO_UBICACION', 'ESTU_ESTUDIANTE', 'ESTU_PRIVADO_LIBERTAD'], axis=1, inplace=True)"
   ]
  },
  {
   "cell_type": "markdown",
   "metadata": {},
   "source": [
    "One-hot encoding"
   ]
  },
  {
   "cell_type": "code",
   "execution_count": null,
   "metadata": {},
   "outputs": [],
   "source": [
    "# # List of categorical variables to one-hot encode\n",
    "# categorical_columns = ['ESTU_TIPODOCUMENTO', 'COLE_AREA_UBICACION', 'COLE_BILINGUE', 'COLE_CALENDARIO',\n",
    "#                        'COLE_CARACTER', 'COLE_GENERO', 'COLE_JORNADA', 'COLE_SEDE_PRINCIPAL',\n",
    "#                        'ESTU_DEPTO_PRESENTACION', 'ESTU_DEPTO_RESIDE', 'ESTU_ESTADOINVESTIGACION',\n",
    "#                        'ESTU_GENERO', 'ESTU_NACIONALIDAD', 'ESTU_PAIS_RESIDE', 'FAMI_TIENEAUTOMOVIL',\n",
    "#                        'FAMI_TIENECOMPUTADOR', 'FAMI_TIENEINTERNET', 'FAMI_TIENELAVADORA']\n",
    "\n",
    "# # One-hot encode the categorical variables\n",
    "# df_cleaned_no_outliers_encoded = pd.get_dummies(df_cleaned_no_outliers, columns=categorical_columns, drop_first=True)"
   ]
  },
  {
   "cell_type": "code",
   "execution_count": null,
   "metadata": {},
   "outputs": [],
   "source": [
    "# df_cleaned_no_outliers_encoded.shape"
   ]
  },
  {
   "cell_type": "code",
   "execution_count": null,
   "metadata": {},
   "outputs": [],
   "source": [
    "# df_cleaned_no_outliers_encoded.dtypes"
   ]
  },
  {
   "cell_type": "code",
   "execution_count": null,
   "metadata": {},
   "outputs": [],
   "source": [
    "df_cleaned_no_outliers"
   ]
  },
  {
   "cell_type": "code",
   "execution_count": null,
   "metadata": {},
   "outputs": [],
   "source": [
    "# List of variables\n",
    "variables = ['ESTU_FECHANACIMIENTO', 'FAMI_CUARTOSHOGAR', 'FAMI_EDUCACIONMADRE',\n",
    "             'FAMI_EDUCACIONPADRE', 'FAMI_ESTRATOVIVIENDA', 'FAMI_PERSONASHOGAR', 'DESEMP_INGLES']\n",
    "\n",
    "# Extract unique values for each variable\n",
    "unique_values = {}\n",
    "for variable in variables:\n",
    "    unique_values[variable] = df_cleaned_no_outliers[variable].unique()\n",
    "\n",
    "# Print unique values for each variable\n",
    "for variable, values in unique_values.items():\n",
    "    print(f\"Unique values for {variable}:\")\n",
    "    print(values)\n",
    "    print()"
   ]
  },
  {
   "cell_type": "markdown",
   "metadata": {},
   "source": [
    "Label encoding\n",
    "\n",
    "The variables with ordinal ranks are label encoded"
   ]
  },
  {
   "cell_type": "code",
   "execution_count": null,
   "metadata": {},
   "outputs": [],
   "source": [
    "from datetime import datetime\n",
    "\n",
    "# Function to convert date string to numerical value\n",
    "def convert_to_numerical(date_string):\n",
    "    date_object = datetime.strptime(date_string, '%d/%m/%Y')\n",
    "    day = date_object.day\n",
    "    month = date_object.month\n",
    "    year = date_object.year\n",
    "    return day, month, year\n",
    "\n",
    "# Apply the conversion function to the entire column\n",
    "df_cleaned_no_outliers[['Day', 'Month', 'Year']] = df_cleaned_no_outliers['ESTU_FECHANACIMIENTO'].apply(lambda x: pd.Series(convert_to_numerical(x)))\n",
    "df_cleaned_no_outliers.drop(columns=['ESTU_FECHANACIMIENTO'], inplace=True)"
   ]
  },
  {
   "cell_type": "code",
   "execution_count": null,
   "metadata": {},
   "outputs": [],
   "source": [
    "from sklearn.preprocessing import LabelEncoder\n",
    "\n",
    "# Initialize LabelEncoder\n",
    "label_encoder = LabelEncoder()\n",
    "\n",
    "# Define mapping for label encoding\n",
    "estrato_mapping = {\n",
    "    'Sin Estrato': 0,\n",
    "    'Estrato 1': 1,\n",
    "    'Estrato 2': 2,\n",
    "    'Estrato 3': 3,\n",
    "    'Estrato 4': 4,\n",
    "    'Estrato 5': 5,\n",
    "    'Estrato 6': 6\n",
    "}\n",
    "\n",
    "# Apply label encoding using the defined mapping\n",
    "df_cleaned_no_outliers['FAMI_ESTRATOVIVIENDA_ENCODED'] = df_cleaned_no_outliers['FAMI_ESTRATOVIVIENDA'].map(estrato_mapping)\n",
    "df_cleaned_no_outliers.drop(columns=['FAMI_ESTRATOVIVIENDA'], inplace=True)\n"
   ]
  },
  {
   "cell_type": "code",
   "execution_count": null,
   "metadata": {},
   "outputs": [],
   "source": [
    "# Define the custom mapping dictionary\n",
    "mapping_dict = {'A-': 1, 'A1': 2, 'A2': 3, 'B1': 4, 'B+': 5}\n",
    "\n",
    "# Replace the values using the mapping dictionary\n",
    "df_cleaned_no_outliers['DESEMP_INGLES'] = df_cleaned_no_outliers['DESEMP_INGLES'].map(mapping_dict)"
   ]
  },
  {
   "cell_type": "code",
   "execution_count": null,
   "metadata": {},
   "outputs": [],
   "source": [
    "df_cleaned_no_outliers.head()"
   ]
  },
  {
   "cell_type": "markdown",
   "metadata": {},
   "source": [
    "#### Scaling"
   ]
  },
  {
   "cell_type": "code",
   "execution_count": null,
   "metadata": {},
   "outputs": [],
   "source": [
    "df_visualizations = df_cleaned_no_outliers.copy()"
   ]
  },
  {
   "cell_type": "code",
   "execution_count": null,
   "metadata": {},
   "outputs": [],
   "source": [
    "df_visualizations.head()"
   ]
  },
  {
   "cell_type": "code",
   "execution_count": null,
   "metadata": {},
   "outputs": [],
   "source": [
    "df_cleaned_no_outliers.dtypes"
   ]
  },
  {
   "cell_type": "code",
   "execution_count": null,
   "metadata": {},
   "outputs": [],
   "source": [
    "from sklearn.preprocessing import StandardScaler\n",
    "\n",
    "numerical_columns = df_cleaned_no_outliers.select_dtypes(include=['float64', 'int64']).columns\n",
    "\n",
    "scaler = StandardScaler()\n",
    "\n",
    "# Fit and transform the numerical data\n",
    "df_cleaned_no_outliers[numerical_columns] = scaler.fit_transform(df_cleaned_no_outliers[numerical_columns])\n"
   ]
  },
  {
   "cell_type": "code",
   "execution_count": null,
   "metadata": {},
   "outputs": [],
   "source": [
    "df_cleaned_no_outliers.head()"
   ]
  },
  {
   "cell_type": "markdown",
   "metadata": {},
   "source": [
    "## Tarea 3. Exploración de datos:"
   ]
  },
  {
   "cell_type": "code",
   "execution_count": null,
   "metadata": {},
   "outputs": [],
   "source": [
    "df_visualizations.head()"
   ]
  },
  {
   "cell_type": "code",
   "execution_count": null,
   "metadata": {},
   "outputs": [],
   "source": [
    "df_visualizations.columns"
   ]
  },
  {
   "cell_type": "markdown",
   "metadata": {},
   "source": [
    "### Desempeño de los estudiantes en cada año"
   ]
  },
  {
   "cell_type": "code",
   "execution_count": null,
   "metadata": {},
   "outputs": [],
   "source": [
    "df_visualizations['PERIODO'].unique()"
   ]
  },
  {
   "cell_type": "code",
   "execution_count": null,
   "metadata": {},
   "outputs": [],
   "source": [
    "notas_2019 = df_visualizations[(df_visualizations['PERIODO'] == 20194) | (df['PERIODO'] == 20191)]\n",
    "notas_2018 = df_visualizations[(df_visualizations['PERIODO'] == 20181)]\n",
    "notas_2017 = df_visualizations[(df_visualizations['PERIODO'] == 20172) | (df['PERIODO'] == 20171)]\n",
    "notas_2016 = df_visualizations[(df_visualizations['PERIODO'] == 20162) | (df['PERIODO'] == 20161)]"
   ]
  },
  {
   "cell_type": "code",
   "execution_count": null,
   "metadata": {},
   "outputs": [],
   "source": [
    "fig = go.Figure()\n",
    "fig.add_trace(go.Box(y = notas_2016['PUNT_GLOBAL'], name = '2016', marker_color='fuchsia'))\n",
    "fig.add_trace(go.Box(y = notas_2017['PUNT_GLOBAL'], name = '2017', marker_color = 'limegreen'))\n",
    "fig.add_trace(go.Box(y = notas_2018['PUNT_GLOBAL'], name = '2018', marker_color = 'salmon'))\n",
    "fig.add_trace(go.Box(y = notas_2019['PUNT_GLOBAL'], name = '2019', marker_color = 'teal'))\n",
    "fig.update_layout(title_text=\"Desempeño global por año\")\n",
    "\n",
    "fig.show()"
   ]
  },
  {
   "cell_type": "markdown",
   "metadata": {},
   "source": [
    "### Desempeño de los estudiantes por colegio bilingüe"
   ]
  },
  {
   "cell_type": "code",
   "execution_count": null,
   "metadata": {},
   "outputs": [],
   "source": [
    "df_visualizations['COLE_BILINGUE'].unique()"
   ]
  },
  {
   "cell_type": "code",
   "execution_count": null,
   "metadata": {},
   "outputs": [],
   "source": [
    "notas_no = df_visualizations[(df_visualizations['COLE_BILINGUE'] == 'N')]\n",
    "notas_si = df_visualizations[(df_visualizations['COLE_BILINGUE'] == 'S')]"
   ]
  },
  {
   "cell_type": "code",
   "execution_count": null,
   "metadata": {},
   "outputs": [],
   "source": [
    "fig = go.Figure()\n",
    "fig.add_trace(go.Box(y = notas_no['PUNT_GLOBAL'], name = 'No Bilingüe', marker_color='fuchsia'))\n",
    "fig.add_trace(go.Box(y = notas_si['PUNT_GLOBAL'], name = 'Bilingüe', marker_color = 'limegreen'))\n",
    "fig.update_layout(title_text=\"Desempeño global por tipo de colegio\")\n",
    "\n",
    "fig.show()"
   ]
  },
  {
   "cell_type": "markdown",
   "metadata": {},
   "source": [
    "### Desempeño por tipo de calendario académico"
   ]
  },
  {
   "cell_type": "code",
   "execution_count": null,
   "metadata": {},
   "outputs": [],
   "source": [
    "df_visualizations['COLE_CALENDARIO'].unique()"
   ]
  },
  {
   "cell_type": "code",
   "execution_count": null,
   "metadata": {},
   "outputs": [],
   "source": [
    "notas_a = df_visualizations[(df_visualizations['COLE_CALENDARIO'] == 'A')]\n",
    "notas_b = df_visualizations[(df_visualizations['COLE_CALENDARIO'] == 'B')]\n",
    "notas_otro = df_visualizations[(df_visualizations['COLE_CALENDARIO'] == 'OTRO')]"
   ]
  },
  {
   "cell_type": "code",
   "execution_count": null,
   "metadata": {},
   "outputs": [],
   "source": [
    "fig = go.Figure()\n",
    "fig.add_trace(go.Box(y = notas_a['PUNT_GLOBAL'], name = 'Calendario A', marker_color='fuchsia'))\n",
    "fig.add_trace(go.Box(y = notas_b['PUNT_GLOBAL'], name = 'Calendario B', marker_color = 'limegreen'))\n",
    "fig.add_trace(go.Box(y = notas_otro['PUNT_GLOBAL'], name = 'Otro', marker_color = 'salmon'))\n",
    "fig.update_layout(title_text=\"Desempeño global por calendario académico\")\n",
    "\n",
    "fig.show()"
   ]
  },
  {
   "cell_type": "markdown",
   "metadata": {},
   "source": [
    "### Desempeño por carácter del colegio"
   ]
  },
  {
   "cell_type": "code",
   "execution_count": null,
   "metadata": {},
   "outputs": [],
   "source": [
    "df_visualizations['COLE_CARACTER'].unique()"
   ]
  },
  {
   "cell_type": "code",
   "execution_count": null,
   "metadata": {},
   "outputs": [],
   "source": [
    "notas_ambas = df_visualizations[(df_visualizations['COLE_CARACTER'] == 'TÉCNICO/ACADÉMICO')]\n",
    "notas_academico = df_visualizations[(df_visualizations['COLE_CARACTER'] == 'ACADÉMICO')]\n",
    "notas_tecnico = df_visualizations[(df_visualizations['COLE_CARACTER'] == 'TÉCNICO')]"
   ]
  },
  {
   "cell_type": "code",
   "execution_count": null,
   "metadata": {},
   "outputs": [],
   "source": [
    "fig = go.Figure()\n",
    "fig.add_trace(go.Box(y = notas_ambas['PUNT_GLOBAL'], name = 'Técnico y Académico', marker_color='fuchsia'))\n",
    "fig.add_trace(go.Box(y = notas_academico['PUNT_GLOBAL'], name = 'Académico', marker_color = 'limegreen'))\n",
    "fig.add_trace(go.Box(y = notas_tecnico['PUNT_GLOBAL'], name = 'Técnico', marker_color = 'salmon'))\n",
    "fig.update_layout(title_text=\"Desempeño global por tipo de colegio\")\n",
    "\n",
    "fig.show()"
   ]
  },
  {
   "cell_type": "markdown",
   "metadata": {},
   "source": [
    "### Desempeño por si el colegio es mixto o solo un género"
   ]
  },
  {
   "cell_type": "code",
   "execution_count": null,
   "metadata": {},
   "outputs": [],
   "source": [
    "df_visualizations['COLE_GENERO'].unique()"
   ]
  },
  {
   "cell_type": "code",
   "execution_count": null,
   "metadata": {},
   "outputs": [],
   "source": [
    "notas_mixto = df_visualizations[(df_visualizations['COLE_GENERO'] == 'MIXTO')]\n",
    "notas_femenino = df_visualizations[(df_visualizations['COLE_GENERO'] == 'FEMENINO')]\n",
    "notas_masculino = df_visualizations[(df_visualizations['COLE_GENERO'] == 'MASCULINO')]"
   ]
  },
  {
   "cell_type": "code",
   "execution_count": null,
   "metadata": {},
   "outputs": [],
   "source": [
    "fig = go.Figure()\n",
    "fig.add_trace(go.Box(y = notas_mixto['PUNT_GLOBAL'], name = 'Mixto', marker_color='fuchsia'))\n",
    "fig.add_trace(go.Box(y = notas_femenino['PUNT_GLOBAL'], name = 'Femenino', marker_color = 'limegreen'))\n",
    "fig.add_trace(go.Box(y = notas_masculino['PUNT_GLOBAL'], name = 'Masculino', marker_color = 'salmon'))\n",
    "fig.update_layout(title_text=\"Desempeño global por colegio mixto o diferenciado\")\n",
    "\n",
    "fig.show()"
   ]
  },
  {
   "cell_type": "markdown",
   "metadata": {},
   "source": [
    "### Desempeño por tipo de jornada"
   ]
  },
  {
   "cell_type": "code",
   "execution_count": null,
   "metadata": {},
   "outputs": [],
   "source": [
    "df_visualizations['COLE_JORNADA'].unique()"
   ]
  },
  {
   "cell_type": "code",
   "execution_count": null,
   "metadata": {},
   "outputs": [],
   "source": [
    "notas_manana = df_visualizations[(df_visualizations['COLE_JORNADA'] == 'MAÑANA')]\n",
    "notas_tarde = df_visualizations[(df_visualizations['COLE_JORNADA'] == 'TARDE')]\n",
    "notas_noche = df_visualizations[(df_visualizations['COLE_JORNADA'] == 'NOCHE')]\n",
    "notas_sabatina = df_visualizations[(df_visualizations['COLE_JORNADA'] == 'SABATINA')]\n",
    "notas_unica = df_visualizations[(df_visualizations['COLE_JORNADA'] == 'UNICA')]\n",
    "notas_completa = df_visualizations[(df_visualizations['COLE_JORNADA'] == 'COMPLETA')]"
   ]
  },
  {
   "cell_type": "code",
   "execution_count": null,
   "metadata": {},
   "outputs": [],
   "source": [
    "fig = go.Figure()\n",
    "fig.add_trace(go.Box(y = notas_manana['PUNT_GLOBAL'], name = 'Mañana', marker_color='fuchsia'))\n",
    "fig.add_trace(go.Box(y = notas_tarde['PUNT_GLOBAL'], name = 'Tarde', marker_color = 'limegreen'))\n",
    "fig.add_trace(go.Box(y = notas_noche['PUNT_GLOBAL'], name = 'Noche', marker_color = 'salmon'))\n",
    "fig.add_trace(go.Box(y = notas_sabatina['PUNT_GLOBAL'], name = 'Sabatina', marker_color = 'teal'))\n",
    "fig.add_trace(go.Box(y = notas_unica['PUNT_GLOBAL'], name = 'Única', marker_color = 'darkslategrey'))\n",
    "fig.add_trace(go.Box(y = notas_completa['PUNT_GLOBAL'], name = 'Completa', marker_color = 'goldenrod'))\n",
    "fig.update_layout(title_text=\"Desempeño global por tipo de jornada\")\n",
    "\n",
    "fig.show()"
   ]
  },
  {
   "cell_type": "markdown",
   "metadata": {},
   "source": [
    "### Desempeño por naturaleza del colegio"
   ]
  },
  {
   "cell_type": "code",
   "execution_count": null,
   "metadata": {},
   "outputs": [],
   "source": [
    "df_visualizations['COLE_NATURALEZA'].unique()"
   ]
  },
  {
   "cell_type": "code",
   "execution_count": null,
   "metadata": {},
   "outputs": [],
   "source": [
    "notas_oficial = df_visualizations[(df_visualizations['COLE_NATURALEZA'] == 'OFICIAL')]\n",
    "notas_nooficial = df_visualizations[(df_visualizations['COLE_NATURALEZA'] == 'NO OFICIAL')]"
   ]
  },
  {
   "cell_type": "code",
   "execution_count": null,
   "metadata": {},
   "outputs": [],
   "source": [
    "fig = go.Figure()\n",
    "fig.add_trace(go.Box(y = notas_oficial['PUNT_GLOBAL'], name = 'Oficial', marker_color='fuchsia'))\n",
    "fig.add_trace(go.Box(y = notas_nooficial['PUNT_GLOBAL'], name = 'No Oficial', marker_color = 'limegreen'))\n",
    "fig.update_layout(title_text=\"Desempeño global por naturaleza del colegio\")\n",
    "\n",
    "fig.show()"
   ]
  },
  {
   "cell_type": "markdown",
   "metadata": {},
   "source": [
    "### Desempeño por género del estudiante"
   ]
  },
  {
   "cell_type": "code",
   "execution_count": null,
   "metadata": {},
   "outputs": [],
   "source": [
    "df_visualizations['ESTU_GENERO'].unique()"
   ]
  },
  {
   "cell_type": "code",
   "execution_count": null,
   "metadata": {},
   "outputs": [],
   "source": [
    "notas_mujeeres = df_visualizations[(df_visualizations['ESTU_GENERO'] == 'F')]\n",
    "notas_hombres = df_visualizations[(df_visualizations['ESTU_GENERO'] == 'M')]"
   ]
  },
  {
   "cell_type": "code",
   "execution_count": null,
   "metadata": {},
   "outputs": [],
   "source": [
    "fig = go.Figure()\n",
    "fig.add_trace(go.Box(y = notas_mujeeres['PUNT_GLOBAL'], name = 'Mujeres', marker_color='fuchsia'))\n",
    "fig.add_trace(go.Box(y = notas_hombres['PUNT_GLOBAL'], name = 'Hombres', marker_color = 'limegreen'))\n",
    "fig.update_layout(title_text=\"Desempeño global por género\")\n",
    "\n",
    "fig.show()"
   ]
  },
  {
   "cell_type": "markdown",
   "metadata": {},
   "source": [
    "### Desempeño por estrato"
   ]
  },
  {
   "cell_type": "code",
   "execution_count": null,
   "metadata": {},
   "outputs": [],
   "source": [
    "df_visualizations['FAMI_ESTRATOVIVIENDA_ENCODED'].unique()"
   ]
  },
  {
   "cell_type": "code",
   "execution_count": null,
   "metadata": {},
   "outputs": [],
   "source": [
    "notas_0 = df_visualizations[(df_visualizations['FAMI_ESTRATOVIVIENDA_ENCODED'] == 0)]\n",
    "notas_1 = df_visualizations[(df_visualizations['FAMI_ESTRATOVIVIENDA_ENCODED'] == 1)]\n",
    "notas_2 = df_visualizations[(df_visualizations['FAMI_ESTRATOVIVIENDA_ENCODED'] == 2)]\n",
    "notas_3 = df_visualizations[(df_visualizations['FAMI_ESTRATOVIVIENDA_ENCODED'] == 3)]\n",
    "notas_4 = df_visualizations[(df_visualizations['FAMI_ESTRATOVIVIENDA_ENCODED'] == 4)]\n",
    "notas_5 = df_visualizations[(df_visualizations['FAMI_ESTRATOVIVIENDA_ENCODED'] == 5)]\n",
    "notas_6 = df_visualizations[(df_visualizations['FAMI_ESTRATOVIVIENDA_ENCODED'] == 6)]"
   ]
  },
  {
   "cell_type": "code",
   "execution_count": null,
   "metadata": {},
   "outputs": [],
   "source": [
    "fig = go.Figure()\n",
    "fig.add_trace(go.Box(y = notas_0['PUNT_GLOBAL'], name = 'Estrato 0', marker_color='fuchsia'))\n",
    "fig.add_trace(go.Box(y = notas_1['PUNT_GLOBAL'], name = 'Estrato 1', marker_color = 'limegreen'))\n",
    "fig.add_trace(go.Box(y = notas_2['PUNT_GLOBAL'], name = 'Estrato 2', marker_color = 'salmon'))\n",
    "fig.add_trace(go.Box(y = notas_3['PUNT_GLOBAL'], name = 'Estrato 3', marker_color = 'teal'))\n",
    "fig.add_trace(go.Box(y = notas_4['PUNT_GLOBAL'], name = 'Estrato 4', marker_color = 'darkslategrey'))\n",
    "fig.add_trace(go.Box(y = notas_5['PUNT_GLOBAL'], name = 'Estrato 5', marker_color = 'goldenrod'))\n",
    "fig.add_trace(go.Box(y = notas_6['PUNT_GLOBAL'], name = 'Estrato 6', marker_color = 'darkviolet'))\n",
    "fig.update_layout(title_text=\"Desempeño global por estrato\")\n",
    "\n",
    "fig.show()"
   ]
  },
  {
   "cell_type": "markdown",
   "metadata": {},
   "source": [
    "### Desempeño por nivel de inglés"
   ]
  },
  {
   "cell_type": "code",
   "execution_count": null,
   "metadata": {},
   "outputs": [],
   "source": [
    "df['DESEMP_INGLES'].unique()"
   ]
  },
  {
   "cell_type": "code",
   "execution_count": null,
   "metadata": {},
   "outputs": [],
   "source": [
    "notas_a2 = df[(df['DESEMP_INGLES'] == 'A2')]\n",
    "notas_a_ = df[(df['DESEMP_INGLES'] == 'A-')]\n",
    "notas_a1 = df[(df['DESEMP_INGLES'] == 'A1')]\n",
    "notas_b1 = df[(df['DESEMP_INGLES'] == 'B1')]\n",
    "notas_b_ = df[(df['DESEMP_INGLES'] == 'B+')]"
   ]
  },
  {
   "cell_type": "code",
   "execution_count": null,
   "metadata": {},
   "outputs": [],
   "source": [
    "fig = go.Figure()\n",
    "fig.add_trace(go.Box(y = notas_a2['PUNT_GLOBAL'], name = 'A2', marker_color='fuchsia'))\n",
    "fig.add_trace(go.Box(y = notas_a_['PUNT_GLOBAL'], name = 'A-', marker_color = 'limegreen'))\n",
    "fig.add_trace(go.Box(y = notas_a1['PUNT_GLOBAL'], name = 'A1', marker_color = 'salmon'))\n",
    "fig.add_trace(go.Box(y = notas_b1['PUNT_GLOBAL'], name = 'B1', marker_color = 'teal'))\n",
    "fig.add_trace(go.Box(y = notas_b_['PUNT_GLOBAL'], name = 'B+', marker_color = 'darkslategrey'))\n",
    "\n",
    "fig.update_layout(title_text=\"Desempeño global por nivel de inglés\")\n",
    "\n",
    "fig.show()"
   ]
  },
  {
   "cell_type": "code",
   "execution_count": null,
   "metadata": {},
   "outputs": [],
   "source": [
    "df_visualizations['Year']"
   ]
  },
  {
   "cell_type": "code",
   "execution_count": null,
   "metadata": {},
   "outputs": [],
   "source": [
    "# Paso 1: Encuentra el valor mínimo de la columna 'Year'\n",
    "df2 = df_visualizations.copy()\n",
    "\n",
    "min_year = df2['Year'].min()\n",
    "\n",
    "# Paso 2: Encuentra el índice de la fila que contiene este valor mínimo\n",
    "index_min_year = df2[df2['Year'] == min_year].index\n",
    "\n",
    "# Paso 3: Elimina esa fila usando el índice encontrado\n",
    "df2 = df2.drop(index_min_year)"
   ]
  },
  {
   "cell_type": "code",
   "execution_count": null,
   "metadata": {},
   "outputs": [],
   "source": [
    "import plotly.express as px\n",
    "\n",
    "fig = px.scatter(x=df2['Year'], y=df2['PUNT_GLOBAL'])\n",
    "fig.update_layout(\n",
    "    title=\"Desempeño por año de nacimiento\",\n",
    "    xaxis_title=\"Año de nacimiento\",\n",
    "    yaxis_title=\"Puntaje Global\"\n",
    ")\n",
    "fig.update_traces(marker=dict(color='salmon'))\n",
    "\n",
    "\n",
    "fig.show()"
   ]
  },
  {
   "cell_type": "markdown",
   "metadata": {},
   "source": [
    "### Histograma Bilingüe y No Bilingüe"
   ]
  },
  {
   "cell_type": "code",
   "execution_count": null,
   "metadata": {},
   "outputs": [],
   "source": [
    "fig = go.Figure()\n",
    "fig.add_trace(go.Histogram(x=notas_no['PUNT_GLOBAL'], histnorm='probability density', marker_color='fuchsia', name = 'No Bilingüe'))\n",
    "fig.add_trace(go.Histogram(x=notas_si['PUNT_GLOBAL'], histnorm='probability density', marker_color='limegreen', name = 'Bilinüe'))\n",
    "\n",
    "# Overlay both histograms\n",
    "fig.update_layout(barmode='overlay')\n",
    "# Reduce opacity to see both histograms\n",
    "fig.update_traces(opacity=0.75)\n",
    "fig.update_layout(title_text=\"Desempeño por tipo de colegio\")\n",
    "\n",
    "fig.show()"
   ]
  },
  {
   "cell_type": "markdown",
   "metadata": {},
   "source": [
    "### Histograma Mujeres y Hombres"
   ]
  },
  {
   "cell_type": "code",
   "execution_count": null,
   "metadata": {},
   "outputs": [],
   "source": [
    "fig = go.Figure()\n",
    "fig.add_trace(go.Histogram(x=notas_mujeeres['PUNT_GLOBAL'], histnorm='probability density', marker_color='fuchsia', name = 'Mujeres'))\n",
    "fig.add_trace(go.Histogram(x=notas_hombres['PUNT_GLOBAL'], histnorm='probability density', marker_color='limegreen', name = 'Hombres'))\n",
    "\n",
    "# Overlay both histograms\n",
    "fig.update_layout(barmode='overlay')\n",
    "# Reduce opacity to see both histograms\n",
    "fig.update_traces(opacity=0.75)\n",
    "fig.update_layout(title_text=\"Desempeño por tipo de colegio\")\n",
    "\n",
    "fig.show()"
   ]
  },
  {
   "cell_type": "markdown",
   "metadata": {},
   "source": [
    "### Histograma Calendario"
   ]
  },
  {
   "cell_type": "code",
   "execution_count": null,
   "metadata": {},
   "outputs": [],
   "source": [
    "fig = go.Figure()\n",
    "fig.add_trace(go.Histogram(x=notas_a['PUNT_GLOBAL'], histnorm='probability density', marker_color='fuchsia', name = 'Calendario A'))\n",
    "fig.add_trace(go.Histogram(x=notas_b['PUNT_GLOBAL'], histnorm='probability density', marker_color='limegreen', name = 'Calendario B'))\n",
    "fig.add_trace(go.Histogram(x=notas_otro['PUNT_GLOBAL'], histnorm='probability density', marker_color='yellow', name = 'Otro'))\n",
    "\n",
    "# Overlay both histograms\n",
    "fig.update_layout(barmode='overlay')\n",
    "# Reduce opacity to see both histograms\n",
    "fig.update_traces(opacity=0.75)\n",
    "fig.update_layout(title_text=\"Desempeño por calendario del colegio\")\n",
    "\n",
    "fig.show()"
   ]
  },
  {
   "cell_type": "markdown",
   "metadata": {},
   "source": [
    "### Histograma Calendario"
   ]
  },
  {
   "cell_type": "code",
   "execution_count": null,
   "metadata": {},
   "outputs": [],
   "source": [
    "fig = go.Figure()\n",
    "fig.add_trace(go.Histogram(x=notas_academico['PUNT_GLOBAL'], histnorm='probability density', marker_color='fuchsia', name = 'Académico'))\n",
    "fig.add_trace(go.Histogram(x=notas_tecnico['PUNT_GLOBAL'], histnorm='probability density', marker_color='limegreen', name = 'Técnico'))\n",
    "fig.add_trace(go.Histogram(x=notas_ambas['PUNT_GLOBAL'], histnorm='probability density', marker_color='yellow', name = 'Ambas'))\n",
    "\n",
    "# Overlay both histograms\n",
    "fig.update_layout(barmode='overlay')\n",
    "# Reduce opacity to see both histograms\n",
    "fig.update_traces(opacity=0.75)\n",
    "fig.update_layout(title_text=\"Desempeño por tipo de colegio\")\n",
    "\n",
    "fig.show()"
   ]
  },
  {
   "cell_type": "markdown",
   "metadata": {},
   "source": [
    "### Histograma Colegio Mixto o Diferenciado"
   ]
  },
  {
   "cell_type": "code",
   "execution_count": null,
   "metadata": {},
   "outputs": [],
   "source": [
    "fig = go.Figure()\n",
    "fig.add_trace(go.Histogram(x=notas_mixto['PUNT_GLOBAL'], histnorm='probability density', marker_color='fuchsia', name = 'Mixto'))\n",
    "fig.add_trace(go.Histogram(x=notas_femenino['PUNT_GLOBAL'], histnorm='probability density', marker_color='limegreen', name = 'Femenino'))\n",
    "fig.add_trace(go.Histogram(x=notas_masculino['PUNT_GLOBAL'], histnorm='probability density', marker_color='yellow', name = 'Masculino'))\n",
    "\n",
    "# Overlay both histograms\n",
    "fig.update_layout(barmode='overlay')\n",
    "# Reduce opacity to see both histograms\n",
    "fig.update_traces(opacity=0.7)\n",
    "fig.update_layout(title_text=\"Desempeño por colegio mixto o diferenciado\")\n",
    "\n",
    "fig.show()"
   ]
  },
  {
   "cell_type": "markdown",
   "metadata": {},
   "source": [
    "### Violin plot Bilingüe y No Bilingüe - OMITIR, NO FUNCIONAN"
   ]
  },
  {
   "cell_type": "code",
   "execution_count": null,
   "metadata": {},
   "outputs": [],
   "source": [
    "fig = go.Figure()\n",
    "\n",
    "fig.add_trace(go.Violin(\n",
    "                        y=df_visualizations['PUNT_GLOBAL'][ df_visualizations['COLE_BILINGUE'] == 'S' ],\n",
    "                        legendgroup='Bilingüe', scalegroup='Yes', name='Bilingüe',\n",
    "                        side='negative',\n",
    "                        line_color='blue')\n",
    "             )\n",
    "fig.add_trace(go.Violin(x=df_visualizations['COLE_BILINGUE'][ df_visualizations['COLE_BILINGUE'] == 'N' ],\n",
    "                        y=df_visualizations['PUNT_GLOBAL'][ df_visualizations['COLE_BILINGUE'] == 'N' ],\n",
    "                        legendgroup='No Bilingüe', scalegroup='Yes', name='No Bilingüe',\n",
    "                        side='positive',\n",
    "                        line_color='orange')\n",
    "             )\n",
    "fig.update_traces(meanline_visible=True)\n",
    "fig.update_layout(violingap=0, violinmode='overlay')\n",
    "fig.show()"
   ]
  },
  {
   "cell_type": "code",
   "execution_count": null,
   "metadata": {},
   "outputs": [],
   "source": [
    "fig = go.Figure()\n",
    "\n",
    "# Añadir el diagrama de violín para los colegios bilingües\n",
    "fig.add_trace(go.Violin(y=notas_si['PUNT_GLOBAL'],\n",
    "                        name='Bilingüe',\n",
    "                        box_visible=True,\n",
    "                        meanline_visible=True))\n",
    "\n",
    "# Añadir el diagrama de violín para los colegios no bilingües\n",
    "fig.add_trace(go.Violin(y=notas_no['PUNT_GLOBAL'],\n",
    "                        name='No Bilingüe',\n",
    "                        box_visible=True,\n",
    "                        meanline_visible=True))\n",
    "\n",
    "# Actualizar el diseño del gráfico\n",
    "fig.update_layout(title='Comparación del Puntaje Global entre Colegios Bilingües y No Bilingües',\n",
    "                  yaxis_title='Puntaje Global',\n",
    "                  violinmode='group')\n",
    "\n",
    "fig.show()"
   ]
  },
  {
   "cell_type": "code",
   "execution_count": null,
   "metadata": {},
   "outputs": [],
   "source": [
    "fig = go.Figure()\n",
    "\n",
    "# Añadir el diagrama de violín para los colegios bilingües en el lado izquierdo\n",
    "fig.add_trace(go.Violin(y=notas_si['PUNT_GLOBAL'],\n",
    "                        name='Bilingüe',\n",
    "                        side='negative',\n",
    "                        box_visible=True,\n",
    "                        meanline_visible=True,\n",
    "                        line_color='blue'))\n",
    "\n",
    "# Añadir el diagrama de violín para los colegios no bilingües en el lado derecho\n",
    "fig.add_trace(go.Violin(y=notas_no['PUNT_GLOBAL'],\n",
    "                        name='No Bilingüe',\n",
    "                        side='positive',\n",
    "                        box_visible=True,\n",
    "                        meanline_visible=True,\n",
    "                        line_color='red'))\n",
    "\n",
    "# Actualizar el diseño del gráfico\n",
    "fig.update_layout(title='Comparación del Puntaje Global entre Colegios Bilingües y No Bilingües',\n",
    "                  yaxis_title='Puntaje Global',\n",
    "                  violinmode='overlay')\n",
    "\n",
    "fig.show()\n"
   ]
  },
  {
   "cell_type": "code",
   "execution_count": null,
   "metadata": {},
   "outputs": [],
   "source": [
    "fig = go.Figure()\n",
    "\n",
    "# Añadir el diagrama de violín para ambos grupos\n",
    "fig.add_trace(go.Violin(y=notas_si['PUNT_GLOBAL'],\n",
    "                        x=['Bilingüe'] * len(notas_si),\n",
    "                        name='Bilingüe',\n",
    "                        box_visible=True,\n",
    "                        meanline_visible=True,\n",
    "                        line_color='blue'))\n",
    "\n",
    "fig.add_trace(go.Violin(y=notas_no['PUNT_GLOBAL'],\n",
    "                        x=['No Bilingüe'] * len(notas_no),\n",
    "                        name='No Bilingüe',\n",
    "                        box_visible=True,\n",
    "                        meanline_visible=True,\n",
    "                        line_color='red'))\n",
    "\n",
    "# Actualizar el diseño del gráfico\n",
    "fig.update_layout(title='Comparación del Puntaje Global entre Colegios Bilingües y No Bilingües',\n",
    "                  yaxis_title='Puntaje Global',\n",
    "                  violinmode='group')\n",
    "\n",
    "fig.show()"
   ]
  },
  {
   "cell_type": "code",
   "execution_count": null,
   "metadata": {},
   "outputs": [],
   "source": [
    "provisional = df_visualizations[['COLE_BILINGUE', 'PUNT_GLOBAL']].copy()"
   ]
  },
  {
   "cell_type": "code",
   "execution_count": null,
   "metadata": {},
   "outputs": [],
   "source": [
    "provisional.head()"
   ]
  }
 ],
 "metadata": {
  "kernelspec": {
   "display_name": "Python 3",
   "language": "python",
   "name": "python3"
  },
  "language_info": {
   "codemirror_mode": {
    "name": "ipython",
    "version": 3
   },
   "file_extension": ".py",
   "mimetype": "text/x-python",
   "name": "python",
   "nbconvert_exporter": "python",
   "pygments_lexer": "ipython3",
   "version": "3.11.7"
  }
 },
 "nbformat": 4,
 "nbformat_minor": 2
}
